{
 "cells": [
  {
   "cell_type": "code",
   "execution_count": 1,
   "metadata": {},
   "outputs": [],
   "source": [
    "from transformers import AutoModelForTokenClassification, AutoTokenizer\n",
    "import torch"
   ]
  },
  {
   "cell_type": "code",
   "execution_count": 3,
   "metadata": {},
   "outputs": [],
   "source": [
    "file_path='/home/gops/projects/woodfrog.tech/spellchecker/data/sampletext.txt'\n",
    "with open(file_path, 'r') as file:\n",
    "    content = file.read()"
   ]
  },
  {
   "cell_type": "code",
   "execution_count": 4,
   "metadata": {},
   "outputs": [
    {
     "data": {
      "application/vnd.jupyter.widget-view+json": {
       "model_id": "618180269d484242b3367d1848d89a43",
       "version_major": 2,
       "version_minor": 0
      },
      "text/plain": [
       "HBox(children=(HTML(value='Downloading (…)lve/main/config.json'), FloatProgress(value=0.0, max=570.0), HTML(va…"
      ]
     },
     "metadata": {},
     "output_type": "display_data"
    },
    {
     "name": "stdout",
     "output_type": "stream",
     "text": [
      "\n"
     ]
    },
    {
     "data": {
      "application/vnd.jupyter.widget-view+json": {
       "model_id": "d1380d4bbca64b128020532f8839e63d",
       "version_major": 2,
       "version_minor": 0
      },
      "text/plain": [
       "HBox(children=(HTML(value='Downloading model.safetensors'), FloatProgress(value=0.0, max=435755784.0), HTML(va…"
      ]
     },
     "metadata": {},
     "output_type": "display_data"
    },
    {
     "name": "stdout",
     "output_type": "stream",
     "text": [
      "\n"
     ]
    },
    {
     "name": "stderr",
     "output_type": "stream",
     "text": [
      "Some weights of the model checkpoint at bert-base-cased were not used when initializing BertForTokenClassification: ['cls.seq_relationship.bias', 'cls.predictions.transform.LayerNorm.bias', 'cls.seq_relationship.weight', 'cls.predictions.bias', 'cls.predictions.transform.dense.weight', 'cls.predictions.transform.LayerNorm.weight', 'cls.predictions.transform.dense.bias']\n",
      "- This IS expected if you are initializing BertForTokenClassification from the checkpoint of a model trained on another task or with another architecture (e.g. initializing a BertForSequenceClassification model from a BertForPreTraining model).\n",
      "- This IS NOT expected if you are initializing BertForTokenClassification from the checkpoint of a model that you expect to be exactly identical (initializing a BertForSequenceClassification model from a BertForSequenceClassification model).\n",
      "Some weights of BertForTokenClassification were not initialized from the model checkpoint at bert-base-cased and are newly initialized: ['classifier.weight', 'classifier.bias']\n",
      "You should probably TRAIN this model on a down-stream task to be able to use it for predictions and inference.\n"
     ]
    },
    {
     "data": {
      "application/vnd.jupyter.widget-view+json": {
       "model_id": "a1c999ea7e5041c5a1db4219c59da626",
       "version_major": 2,
       "version_minor": 0
      },
      "text/plain": [
       "HBox(children=(HTML(value='Downloading (…)okenizer_config.json'), FloatProgress(value=0.0, max=29.0), HTML(val…"
      ]
     },
     "metadata": {},
     "output_type": "display_data"
    },
    {
     "name": "stdout",
     "output_type": "stream",
     "text": [
      "\n"
     ]
    },
    {
     "data": {
      "application/vnd.jupyter.widget-view+json": {
       "model_id": "85ec2e27a11d429aba5b039a4411fb1c",
       "version_major": 2,
       "version_minor": 0
      },
      "text/plain": [
       "HBox(children=(HTML(value='Downloading (…)solve/main/vocab.txt'), FloatProgress(value=0.0, max=213450.0), HTML…"
      ]
     },
     "metadata": {},
     "output_type": "display_data"
    },
    {
     "name": "stdout",
     "output_type": "stream",
     "text": [
      "\n"
     ]
    },
    {
     "data": {
      "application/vnd.jupyter.widget-view+json": {
       "model_id": "250d1bbf0ebd42bf998daff82d84f94b",
       "version_major": 2,
       "version_minor": 0
      },
      "text/plain": [
       "HBox(children=(HTML(value='Downloading (…)/main/tokenizer.json'), FloatProgress(value=0.0, max=435797.0), HTML…"
      ]
     },
     "metadata": {},
     "output_type": "display_data"
    },
    {
     "name": "stdout",
     "output_type": "stream",
     "text": [
      "\n"
     ]
    }
   ],
   "source": [
    "model_name = \"bert-base-cased\"\n",
    "model = AutoModelForTokenClassification.from_pretrained(model_name)\n",
    "tokenizer = AutoTokenizer.from_pretrained(model_name)"
   ]
  },
  {
   "cell_type": "code",
   "execution_count": 7,
   "metadata": {},
   "outputs": [],
   "source": [
    "# Tokenize the text\n",
    "tokens = tokenizer.tokenize(content)\n",
    "inputs = tokenizer.encode(content, return_tensors=\"pt\")"
   ]
  },
  {
   "cell_type": "code",
   "execution_count": 9,
   "metadata": {},
   "outputs": [],
   "source": [
    "# Perform spell checking\n",
    "with torch.no_grad():\n",
    "    outputs = model(inputs)[0]\n",
    "    predictions = torch.argmax(outputs, dim=2)[0]"
   ]
  },
  {
   "cell_type": "code",
   "execution_count": 13,
   "metadata": {},
   "outputs": [
    {
     "name": "stdout",
     "output_type": "stream",
     "text": [
      "tokens: Art and predictions 1\n",
      "tokens: ##ific and predictions 1\n",
      "tokens: ##ial and predictions 1\n",
      "tokens: Intel and predictions 1\n",
      "tokens: ##ige and predictions 1\n",
      "tokens: ##nce and predictions 1\n",
      "tokens: ( and predictions 0\n",
      "tokens: AI and predictions 1\n",
      "tokens: ) and predictions 1\n",
      "tokens: is and predictions 1\n",
      "tokens: re and predictions 1\n",
      "tokens: ##vo and predictions 1\n",
      "tokens: ##lut and predictions 1\n",
      "tokens: ##ina and predictions 0\n",
      "tokens: ##ry and predictions 1\n",
      "tokens: and and predictions 0\n",
      "tokens: has and predictions 1\n",
      "tokens: a and predictions 1\n",
      "tokens: p and predictions 1\n",
      "tokens: ##wer and predictions 1\n",
      "tokens: ##ful and predictions 1\n",
      "tokens: impact and predictions 1\n",
      "tokens: on and predictions 1\n",
      "tokens: our and predictions 1\n",
      "tokens: society and predictions 1\n",
      "tokens: . and predictions 1\n",
      "tokens: It and predictions 1\n",
      "tokens: ' and predictions 1\n",
      "tokens: s and predictions 1\n",
      "tokens: transforming and predictions 1\n",
      "tokens: diverse and predictions 1\n",
      "tokens: industries and predictions 1\n",
      "tokens: , and predictions 1\n",
      "tokens: in and predictions 1\n",
      "tokens: ##c and predictions 1\n",
      "tokens: ##lu and predictions 1\n",
      "tokens: ##dding and predictions 1\n",
      "tokens: healthcare and predictions 1\n",
      "tokens: , and predictions 1\n",
      "tokens: finance and predictions 0\n",
      "tokens: , and predictions 1\n",
      "tokens: and and predictions 1\n",
      "tokens: t and predictions 1\n",
      "tokens: ##ran and predictions 1\n",
      "tokens: ##port and predictions 1\n",
      "tokens: ##ation and predictions 1\n",
      "tokens: . and predictions 1\n",
      "tokens: AI and predictions 1\n",
      "tokens: al and predictions 1\n",
      "tokens: ##gor and predictions 1\n",
      "tokens: ##yt and predictions 1\n",
      "tokens: ##hm and predictions 1\n",
      "tokens: ##s and predictions 1\n",
      "tokens: can and predictions 1\n",
      "tokens: analyze and predictions 1\n",
      "tokens: vast and predictions 1\n",
      "tokens: ##s and predictions 1\n",
      "tokens: amounts and predictions 1\n",
      "tokens: of and predictions 0\n",
      "tokens: data and predictions 1\n",
      "tokens: , and predictions 1\n",
      "tokens: une and predictions 1\n",
      "tokens: ##art and predictions 1\n",
      "tokens: ##hing and predictions 1\n",
      "tokens: valuable and predictions 1\n",
      "tokens: ins and predictions 1\n",
      "tokens: ##ght and predictions 1\n",
      "tokens: ##s and predictions 1\n",
      "tokens: and and predictions 1\n",
      "tokens: making and predictions 1\n",
      "tokens: pre and predictions 1\n",
      "tokens: ##d and predictions 1\n",
      "tokens: ##ctions and predictions 1\n",
      "tokens: . and predictions 1\n",
      "tokens: Mac and predictions 1\n",
      "tokens: ##hn and predictions 1\n",
      "tokens: ##e and predictions 1\n",
      "tokens: learn and predictions 1\n",
      "tokens: ##ng and predictions 1\n",
      "tokens: is and predictions 1\n",
      "tokens: a and predictions 1\n",
      "tokens: k and predictions 1\n",
      "tokens: ##ee and predictions 1\n",
      "tokens: ##y and predictions 1\n",
      "tokens: component and predictions 1\n",
      "tokens: of and predictions 1\n",
      "tokens: AI and predictions 1\n",
      "tokens: , and predictions 1\n",
      "tokens: help and predictions 1\n",
      "tokens: ##ng and predictions 1\n",
      "tokens: computers and predictions 1\n",
      "tokens: to and predictions 1\n",
      "tokens: le and predictions 1\n",
      "tokens: ##rn and predictions 1\n",
      "tokens: and and predictions 1\n",
      "tokens: adapt and predictions 1\n",
      "tokens: b and predictions 1\n",
      "tokens: ##as and predictions 1\n",
      "tokens: ##d and predictions 1\n",
      "tokens: on and predictions 1\n",
      "tokens: pat and predictions 1\n",
      "tokens: ##ern and predictions 1\n",
      "tokens: ##s and predictions 1\n",
      "tokens: . and predictions 1\n",
      "tokens: It and predictions 1\n",
      "tokens: en and predictions 1\n",
      "tokens: ##han and predictions 1\n",
      "tokens: ##ses and predictions 1\n",
      "tokens: auto and predictions 1\n",
      "tokens: ##m and predictions 1\n",
      "tokens: ##tion and predictions 1\n",
      "tokens: , and predictions 0\n",
      "tokens: e and predictions 1\n",
      "tokens: ##ff and predictions 1\n",
      "tokens: ##ici and predictions 0\n",
      "tokens: ##en and predictions 0\n",
      "tokens: ##y and predictions 1\n",
      "tokens: , and predictions 0\n",
      "tokens: and and predictions 1\n",
      "tokens: pro and predictions 1\n",
      "tokens: ##d and predictions 1\n",
      "tokens: ##ci and predictions 1\n",
      "tokens: ##ti and predictions 1\n",
      "tokens: ##vity and predictions 1\n",
      "tokens: . and predictions 0\n",
      "tokens: The and predictions 1\n",
      "tokens: de and predictions 1\n",
      "tokens: ##vel and predictions 1\n",
      "tokens: ##pment and predictions 1\n",
      "tokens: of and predictions 1\n",
      "tokens: AI and predictions 1\n",
      "tokens: re and predictions 1\n",
      "tokens: ##q and predictions 1\n",
      "tokens: ##ures and predictions 1\n",
      "tokens: ski and predictions 1\n",
      "tokens: ##led and predictions 1\n",
      "tokens: pro and predictions 1\n",
      "tokens: ##ffe and predictions 1\n",
      "tokens: ##sional and predictions 1\n",
      "tokens: ##s and predictions 1\n",
      "tokens: who and predictions 1\n",
      "tokens: und and predictions 1\n",
      "tokens: ##rst and predictions 1\n",
      "tokens: ##and and predictions 1\n",
      "tokens: al and predictions 1\n",
      "tokens: ##gor and predictions 1\n",
      "tokens: ##ith and predictions 1\n",
      "tokens: ##sm and predictions 1\n",
      "tokens: and and predictions 1\n",
      "tokens: can and predictions 1\n",
      "tokens: create and predictions 1\n",
      "tokens: so and predictions 1\n",
      "tokens: ##phi and predictions 1\n",
      "tokens: ##stic and predictions 1\n",
      "tokens: ##ae and predictions 1\n",
      "tokens: ##d and predictions 1\n",
      "tokens: models and predictions 1\n",
      "tokens: . and predictions 1\n",
      "tokens: T and predictions 1\n",
      "tokens: ##hs and predictions 1\n",
      "tokens: field and predictions 1\n",
      "tokens: con and predictions 1\n",
      "tokens: ##t and predictions 1\n",
      "tokens: ##nu and predictions 1\n",
      "tokens: ##es and predictions 1\n",
      "tokens: to and predictions 1\n",
      "tokens: e and predictions 1\n",
      "tokens: ##vo and predictions 1\n",
      "tokens: ##l and predictions 1\n",
      "tokens: ##v and predictions 1\n",
      "tokens: rapidly and predictions 1\n",
      "tokens: , and predictions 1\n",
      "tokens: opening and predictions 1\n",
      "tokens: new and predictions 1\n",
      "tokens: horizon and predictions 1\n",
      "tokens: ##s and predictions 1\n",
      "tokens: and and predictions 1\n",
      "tokens: op and predictions 1\n",
      "tokens: ##port and predictions 1\n",
      "tokens: ##uni and predictions 1\n",
      "tokens: ##tis and predictions 0\n",
      "tokens: . and predictions 1\n"
     ]
    }
   ],
   "source": [
    "# Identify misspelled words and suggest corrections\n",
    "misspelled_words = []\n",
    "for token, prediction in zip(tokens, predictions):\n",
    "    print(f\"tokens: {token} and predictions {prediction}\")\n",
    "    if prediction.item() == 1:  # 1 corresponds to \"I-ORG\" in BERT\n",
    "        misspelled_words.append(token)"
   ]
  },
  {
   "cell_type": "code",
   "execution_count": 11,
   "metadata": {},
   "outputs": [
    {
     "name": "stdout",
     "output_type": "stream",
     "text": [
      "Misspelled words found:\n",
      "Word: Art\n",
      "Word: ##ific\n",
      "Word: ##ial\n",
      "Word: Intel\n",
      "Word: ##ige\n",
      "Word: ##nce\n",
      "Word: AI\n",
      "Word: )\n",
      "Word: is\n",
      "Word: re\n",
      "Word: ##vo\n",
      "Word: ##lut\n",
      "Word: ##ry\n",
      "Word: has\n",
      "Word: a\n",
      "Word: p\n",
      "Word: ##wer\n",
      "Word: ##ful\n",
      "Word: impact\n",
      "Word: on\n",
      "Word: our\n",
      "Word: society\n",
      "Word: .\n",
      "Word: It\n",
      "Word: '\n",
      "Word: s\n",
      "Word: transforming\n",
      "Word: diverse\n",
      "Word: industries\n",
      "Word: ,\n",
      "Word: in\n",
      "Word: ##c\n",
      "Word: ##lu\n",
      "Word: ##dding\n",
      "Word: healthcare\n",
      "Word: ,\n",
      "Word: ,\n",
      "Word: and\n",
      "Word: t\n",
      "Word: ##ran\n",
      "Word: ##port\n",
      "Word: ##ation\n",
      "Word: .\n",
      "Word: AI\n",
      "Word: al\n",
      "Word: ##gor\n",
      "Word: ##yt\n",
      "Word: ##hm\n",
      "Word: ##s\n",
      "Word: can\n",
      "Word: analyze\n",
      "Word: vast\n",
      "Word: ##s\n",
      "Word: amounts\n",
      "Word: data\n",
      "Word: ,\n",
      "Word: une\n",
      "Word: ##art\n",
      "Word: ##hing\n",
      "Word: valuable\n",
      "Word: ins\n",
      "Word: ##ght\n",
      "Word: ##s\n",
      "Word: and\n",
      "Word: making\n",
      "Word: pre\n",
      "Word: ##d\n",
      "Word: ##ctions\n",
      "Word: .\n",
      "Word: Mac\n",
      "Word: ##hn\n",
      "Word: ##e\n",
      "Word: learn\n",
      "Word: ##ng\n",
      "Word: is\n",
      "Word: a\n",
      "Word: k\n",
      "Word: ##ee\n",
      "Word: ##y\n",
      "Word: component\n",
      "Word: of\n",
      "Word: AI\n",
      "Word: ,\n",
      "Word: help\n",
      "Word: ##ng\n",
      "Word: computers\n",
      "Word: to\n",
      "Word: le\n",
      "Word: ##rn\n",
      "Word: and\n",
      "Word: adapt\n",
      "Word: b\n",
      "Word: ##as\n",
      "Word: ##d\n",
      "Word: on\n",
      "Word: pat\n",
      "Word: ##ern\n",
      "Word: ##s\n",
      "Word: .\n",
      "Word: It\n",
      "Word: en\n",
      "Word: ##han\n",
      "Word: ##ses\n",
      "Word: auto\n",
      "Word: ##m\n",
      "Word: ##tion\n",
      "Word: e\n",
      "Word: ##ff\n",
      "Word: ##y\n",
      "Word: and\n",
      "Word: pro\n",
      "Word: ##d\n",
      "Word: ##ci\n",
      "Word: ##ti\n",
      "Word: ##vity\n",
      "Word: The\n",
      "Word: de\n",
      "Word: ##vel\n",
      "Word: ##pment\n",
      "Word: of\n",
      "Word: AI\n",
      "Word: re\n",
      "Word: ##q\n",
      "Word: ##ures\n",
      "Word: ski\n",
      "Word: ##led\n",
      "Word: pro\n",
      "Word: ##ffe\n",
      "Word: ##sional\n",
      "Word: ##s\n",
      "Word: who\n",
      "Word: und\n",
      "Word: ##rst\n",
      "Word: ##and\n",
      "Word: al\n",
      "Word: ##gor\n",
      "Word: ##ith\n",
      "Word: ##sm\n",
      "Word: and\n",
      "Word: can\n",
      "Word: create\n",
      "Word: so\n",
      "Word: ##phi\n",
      "Word: ##stic\n",
      "Word: ##ae\n",
      "Word: ##d\n",
      "Word: models\n",
      "Word: .\n",
      "Word: T\n",
      "Word: ##hs\n",
      "Word: field\n",
      "Word: con\n",
      "Word: ##t\n",
      "Word: ##nu\n",
      "Word: ##es\n",
      "Word: to\n",
      "Word: e\n",
      "Word: ##vo\n",
      "Word: ##l\n",
      "Word: ##v\n",
      "Word: rapidly\n",
      "Word: ,\n",
      "Word: opening\n",
      "Word: new\n",
      "Word: horizon\n",
      "Word: ##s\n",
      "Word: and\n",
      "Word: op\n",
      "Word: ##port\n",
      "Word: ##uni\n",
      "Word: .\n"
     ]
    }
   ],
   "source": [
    "print(\"Misspelled words found:\")\n",
    "for word in misspelled_words:\n",
    "    print(f\"Word: {word}\")"
   ]
  },
  {
   "cell_type": "code",
   "execution_count": 16,
   "metadata": {},
   "outputs": [],
   "source": [
    "import nltk\n",
    "from nltk.corpus import stopwords\n",
    "from nltk.tokenize import word_tokenize\n",
    "\n",
    "# Download necessary resources (if not already downloaded)\n",
    "nltk.download('punkt')\n",
    "nltk.download('stopwords')\n",
    "\n",
    "# Load the corpus\n",
    "corpus = \"This is a sample text corpus. It contains multiple sentences.\"\n",
    "\n",
    "# Tokenization\n",
    "tokens = word_tokenize(corpus)\n",
    "\n",
    "# Cleaning\n",
    "cleaned_tokens = [token.lower() for token in tokens if token.isalpha()]\n",
    "\n",
    "# Filtering\n",
    "stopwords = set(stopwords.words('english'))\n",
    "filtered_tokens = [token for token in cleaned_tokens if token not in stopwords]\n",
    "\n",
    "# Display the extracted words\n",
    "print(filtered_tokens)\n"
   ]
  },
  {
   "cell_type": "code",
   "execution_count": null,
   "metadata": {},
   "outputs": [],
   "source": []
  }
 ],
 "metadata": {
  "kernelspec": {
   "display_name": "base",
   "language": "python",
   "name": "python3"
  },
  "language_info": {
   "codemirror_mode": {
    "name": "ipython",
    "version": 3
   },
   "file_extension": ".py",
   "mimetype": "text/x-python",
   "name": "python",
   "nbconvert_exporter": "python",
   "pygments_lexer": "ipython3",
   "version": "3.9.1"
  },
  "orig_nbformat": 4
 },
 "nbformat": 4,
 "nbformat_minor": 2
}
